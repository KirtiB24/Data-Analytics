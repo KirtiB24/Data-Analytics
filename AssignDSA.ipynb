{
  "nbformat": 4,
  "nbformat_minor": 0,
  "metadata": {
    "colab": {
      "provenance": [],
      "authorship_tag": "ABX9TyM7m/g5EBTQZvPmllFo1T66",
      "include_colab_link": true
    },
    "kernelspec": {
      "name": "python3",
      "display_name": "Python 3"
    },
    "language_info": {
      "name": "python"
    }
  },
  "cells": [
    {
      "cell_type": "markdown",
      "metadata": {
        "id": "view-in-github",
        "colab_type": "text"
      },
      "source": [
        "<a href=\"https://colab.research.google.com/github/KirtiB24/Data-Analytics/blob/main/AssignDSA.ipynb\" target=\"_parent\"><img src=\"https://colab.research.google.com/assets/colab-badge.svg\" alt=\"Open In Colab\"/></a>"
      ]
    },
    {
      "cell_type": "code",
      "execution_count": null,
      "metadata": {
        "id": "jsWmNNw9vt8l"
      },
      "outputs": [],
      "source": [
        "#Q:1  Write a Python program to reverse a string without using any built-in string reversal functions.\n",
        "\n",
        "my_string=(\"abcd\")\n",
        "str=\"\"\n",
        "for i in my_string:\n",
        "    str=i+str\n",
        "    #print (str)\n",
        "print(\"Reversed string:\",str)"
      ]
    },
    {
      "cell_type": "code",
      "source": [
        "#Q.2 Implement a function to check if a given string is a palindrome.\n",
        "my_string = (\"aba\")\n",
        "str = \"\"\n",
        "for i in my_string:\n",
        "  str = i+str\n",
        "if(str == my_string):\n",
        "  print(\"str is palindrom\")\n",
        "else :\n",
        "  print(\"Not palindrom\")"
      ],
      "metadata": {
        "colab": {
          "base_uri": "https://localhost:8080/"
        },
        "id": "tppTda09v4fc",
        "outputId": "9e6e88b9-40e7-4e05-bb0c-e6ab929dc2f0"
      },
      "execution_count": 2,
      "outputs": [
        {
          "output_type": "stream",
          "name": "stdout",
          "text": [
            "str is palindrom\n"
          ]
        }
      ]
    },
    {
      "cell_type": "code",
      "source": [
        "#q.3  Write a program to find the largest element in a given list.\n",
        "\n",
        "my_list = [1,5,7,9,33]\n",
        "ans = my_list[0];\n",
        "for i in my_list:\n",
        "  if i > ans:\n",
        "    ans = i\n",
        "    #print (ans)\n",
        "print (ans);\n",
        "\n",
        "\n",
        "\n"
      ],
      "metadata": {
        "colab": {
          "base_uri": "https://localhost:8080/"
        },
        "id": "PvtDgu2Ewja2",
        "outputId": "265b2121-4897-4876-ac71-5e18fb23a8f7"
      },
      "execution_count": 13,
      "outputs": [
        {
          "output_type": "stream",
          "name": "stdout",
          "text": [
            "33\n"
          ]
        }
      ]
    },
    {
      "cell_type": "code",
      "source": [
        "#Q4. Implement a function to count the occurrence of each element in a list.\n",
        "import pandas as pd\n",
        "my_list = [1,1,1,4,2,3,6];\n",
        "count = pd.Series(my_list).value_counts()\n",
        "print(\"Element Count\")\n",
        "print(count)\n"
      ],
      "metadata": {
        "colab": {
          "base_uri": "https://localhost:8080/"
        },
        "id": "3RZIpr_vwjPi",
        "outputId": "c0911cfb-ea20-4af2-aa13-d25da1abeb21"
      },
      "execution_count": 16,
      "outputs": [
        {
          "output_type": "stream",
          "name": "stdout",
          "text": [
            "Element Count\n",
            "1    3\n",
            "4    1\n",
            "2    1\n",
            "3    1\n",
            "6    1\n",
            "dtype: int64\n"
          ]
        }
      ]
    },
    {
      "cell_type": "code",
      "source": [
        "#5. Write a Python program to find the second largest number in a list.\n",
        "my_list = [1,1,1,4,2,3,6];\n",
        "my_list = sorted(my_list)\n",
        "print(my_list[-2])\n",
        "\n",
        "\n",
        "# largest element in an array\n",
        "\n",
        "# Function to print the\n",
        "# second largest elements\n",
        "def print2largest(arr,\n",
        "                  arr_size):\n",
        "\n",
        "  # There should be\n",
        "  # atleast two elements\n",
        "  if (arr_size < 2):\n",
        "    print(\" Invalid Input \")\n",
        "    return\n",
        "\n",
        "  # Sort the array\n",
        "  arr.sort\n",
        "\n",
        "  # Start from second last\n",
        "  # element as the largest\n",
        "  # element is at last\n",
        "  for i in range(arr_size-2,-1, -1):\n",
        "\n",
        "    # If the element is not\n",
        "    # equal to largest element\n",
        "    if (arr[i] != arr[arr_size - 1]) :\n",
        "\n",
        "      print(\"The second largest element is\",\n",
        "            arr[i])\n",
        "      return\n",
        "\n",
        "  print(\"There is no second largest element\")\n",
        "\n",
        "# Driver code\n",
        "arr = [12, 35, 1, 10, 34, 1]\n",
        "n = len(arr)\n",
        "print2largest(arr, n)"
      ],
      "metadata": {
        "colab": {
          "base_uri": "https://localhost:8080/"
        },
        "id": "QKESgyM64Anz",
        "outputId": "9ba6f1ae-95ba-4265-e0c1-45e8c8338eec"
      },
      "execution_count": 20,
      "outputs": [
        {
          "output_type": "stream",
          "name": "stdout",
          "text": [
            "4\n",
            "The second largest element is 34\n"
          ]
        }
      ]
    },
    {
      "cell_type": "code",
      "source": [
        "#6. Implement a function to remove duplicate elements from a list.\n",
        "\n",
        "def removeDup(my_list):\n",
        "  final_list = []\n",
        "  for i in my_list:\n",
        "    if i not in final_list:\n",
        "      final_list.append(i)\n",
        "  return final_list\n",
        "my_list = [2, 4, 10, 20, 5, 2, 20, 4]\n",
        "print(removeDup(my_list))\n",
        "\n",
        "\n",
        "\n"
      ],
      "metadata": {
        "colab": {
          "base_uri": "https://localhost:8080/"
        },
        "id": "g7WvilBHwjBm",
        "outputId": "62ea7a90-b812-402e-f9e9-397782f2801e"
      },
      "execution_count": 35,
      "outputs": [
        {
          "output_type": "stream",
          "name": "stdout",
          "text": [
            "[2, 4, 10, 20, 5]\n"
          ]
        }
      ]
    },
    {
      "cell_type": "code",
      "source": [
        "#7. Write a program to calculate the factorial of a given number.\n",
        "def factorial(n):\n",
        "    if n == 0:\n",
        "        return 1\n",
        "    return n * factorial(n-1)\n",
        "\n",
        "num = 5;\n",
        "print(factorial(num))"
      ],
      "metadata": {
        "colab": {
          "base_uri": "https://localhost:8080/"
        },
        "id": "9sPX4775W6zV",
        "outputId": "a9a93a8f-343a-4106-f546-07a525ef2735"
      },
      "execution_count": 55,
      "outputs": [
        {
          "output_type": "stream",
          "name": "stdout",
          "text": [
            "120\n"
          ]
        }
      ]
    },
    {
      "cell_type": "code",
      "source": [
        "#8. Implement a function to check if a given number is prime.\n",
        "def isPrime(n,i):\n",
        "  if(n==0 or n ==1):\n",
        "    return False\n",
        "  if(n == i):\n",
        "    return True\n",
        "  if(n % i == 0):\n",
        "    return False\n",
        "  i = i+1\n",
        "  return isPrime(n,i)\n",
        "\n",
        "if (isPrime(35, 2)):\n",
        "  print(\"true\")\n",
        "else:\n",
        "  print(\"false\")"
      ],
      "metadata": {
        "colab": {
          "base_uri": "https://localhost:8080/"
        },
        "id": "dqBBMFKaYg-L",
        "outputId": "2a5913b1-e9a3-4685-d4fb-4ab414379097"
      },
      "execution_count": 60,
      "outputs": [
        {
          "output_type": "stream",
          "name": "stdout",
          "text": [
            "false\n"
          ]
        }
      ]
    },
    {
      "cell_type": "code",
      "source": [
        "# Write a Python program to sort a list of integers in ascending order.\n",
        "numbers = [1, 3, 4, 2]\n",
        "\n",
        "print(numbers.sort())  # None\n",
        "print(numbers)           # [1, 2, 3, 4]\n",
        "print(sorted(numbers))  # [1, 2, 3, 4]"
      ],
      "metadata": {
        "colab": {
          "base_uri": "https://localhost:8080/"
        },
        "id": "JrNMkPfpW6ua",
        "outputId": "7d24515c-e324-49be-c9b3-cbcc16659a3c"
      },
      "execution_count": 61,
      "outputs": [
        {
          "output_type": "stream",
          "name": "stdout",
          "text": [
            "None\n",
            "[1, 2, 3, 4]\n",
            "[1, 2, 3, 4]\n"
          ]
        }
      ]
    },
    {
      "cell_type": "code",
      "source": [
        "#Implement a function to find the sum of all numbers in a list.\n",
        "def sum(lst):\n",
        "  sum = 0\n",
        "  for i in lst:\n",
        "    sum = sum + i;\n",
        "  return sum\n",
        "lst = [1,2,3]\n",
        "print(sum (lst))"
      ],
      "metadata": {
        "colab": {
          "base_uri": "https://localhost:8080/"
        },
        "id": "d376fNHgezx5",
        "outputId": "18888b11-edde-496c-af64-bd3698341847"
      },
      "execution_count": 62,
      "outputs": [
        {
          "output_type": "stream",
          "name": "stdout",
          "text": [
            "6\n"
          ]
        }
      ]
    },
    {
      "cell_type": "code",
      "source": [
        "#1. Write a program to find the common elements between two lists.\n",
        "lst1 = [7,4,5]\n",
        "lst2 = [3,4,5]\n",
        "lst3 = []\n",
        "\n",
        "def lst(lst1,lst2):\n",
        "  for i in lst1:\n",
        "    for j in lst2:\n",
        "      if i == j:\n",
        "        lst3.append(i)\n",
        "  return lst3\n",
        "print (lst(lst1,lst2))\n",
        "\n",
        "print (lst1.intersect)\n",
        "\n",
        "\n",
        ""
      ],
      "metadata": {
        "colab": {
          "base_uri": "https://localhost:8080/"
        },
        "id": "2qMW0-I93tUd",
        "outputId": "017428ba-822f-4316-f36b-be27c8c65eb5"
      },
      "execution_count": 67,
      "outputs": [
        {
          "output_type": "stream",
          "name": "stdout",
          "text": [
            "[4, 5]\n"
          ]
        }
      ]
    },
    {
      "cell_type": "code",
      "source": [
        "#12. Implement a function to check if a given string is an anagram of another string.\n",
        "\n",
        "def anagram(str1,str2):\n",
        "  if sorted(str1) == sorted (str2):\n",
        "    print(\"anagram\")\n",
        "  else:\n",
        "    print(\"not anagram\")\n",
        "\n",
        "#driver code\n",
        "str1 = \"abcd\"\n",
        "str2 = \"bcead\"\n",
        "anagram(str1,str2)\n",
        "\n"
      ],
      "metadata": {
        "colab": {
          "base_uri": "https://localhost:8080/"
        },
        "id": "YqEbVGmF448U",
        "outputId": "ef0ba28d-0722-496e-d317-76526e86cdb7"
      },
      "execution_count": 69,
      "outputs": [
        {
          "output_type": "stream",
          "name": "stdout",
          "text": [
            "not anagram\n"
          ]
        }
      ]
    },
    {
      "cell_type": "code",
      "source": [
        "#Write a Python program to generate all permutations of a given string.\n",
        "\n",
        "def permute(s,ans):\n",
        "  if (len(s)==0):\n",
        "    print(ans,end = \" \")\n",
        "  for i in range (len(s)):\n",
        "    ch = s[i];\n",
        "    left_substr = s[0:i]\n",
        "    right_substr = s[i + 1:]\n",
        "    rest = left_substr + right_substr\n",
        "    permute(rest, ans + ch)\n",
        "\n",
        "s = \"abc\"\n",
        "ans = \" \"\n",
        "print(permute(s,ans))"
      ],
      "metadata": {
        "colab": {
          "base_uri": "https://localhost:8080/"
        },
        "id": "BJRpm-9d9BgB",
        "outputId": "f705a850-4f97-43b1-d25b-f39b5a89b777"
      },
      "execution_count": 71,
      "outputs": [
        {
          "output_type": "stream",
          "name": "stdout",
          "text": [
            " abc  acb  bac  bca  cab  cba None\n"
          ]
        }
      ]
    },
    {
      "cell_type": "code",
      "source": [
        "#14 Implement a function to calculate the Fibonacci sequence up to a given number of terms.\n",
        "def fibonacci(n):\n",
        "    if n <= 1:\n",
        "        return n\n",
        "    return fibonacci(n-1) + fibonacci(n-2)\n",
        "\n",
        "print(fibonacci(9))\n"
      ],
      "metadata": {
        "colab": {
          "base_uri": "https://localhost:8080/"
        },
        "id": "_ilRoL3OW6qw",
        "outputId": "690bb5f6-fb9b-4d77-a184-21b7d25d30e0"
      },
      "execution_count": 2,
      "outputs": [
        {
          "output_type": "stream",
          "name": "stdout",
          "text": [
            "34\n"
          ]
        }
      ]
    },
    {
      "cell_type": "code",
      "source": [
        "#15Write a program to find the median of a list of numbers.\n",
        "def median1(list1):\n",
        "  ans = 0\n",
        "  len1 = len(list1)\n",
        "  if(len1%2 == 0):\n",
        "    ans = (list1[(len1//2)] + list1[len1//2-1])/2\n",
        "    return ans;\n",
        "  else:\n",
        "    return list1[len1//2];\n",
        "\n",
        "list1 = [2,4,5,2,8,0]\n",
        "print(median1(list1))\n"
      ],
      "metadata": {
        "colab": {
          "base_uri": "https://localhost:8080/"
        },
        "id": "04RV-Z6rW62-",
        "outputId": "aaf6fbe1-3a6d-4509-d4af-a88c7ba0ddb5"
      },
      "execution_count": 14,
      "outputs": [
        {
          "output_type": "stream",
          "name": "stdout",
          "text": [
            "3.5\n"
          ]
        }
      ]
    },
    {
      "cell_type": "code",
      "source": [
        "#Implement a function to check if a given list is sorted in non-decreasing order.\n",
        "test_list = [1,5,6,10,7,0]\n",
        "flag =0\n",
        "i = 1\n",
        "while i < len(test_list):\n",
        "    if(test_list[i] < test_list[i - 1]):\n",
        "        flag = 1\n",
        "    i += 1\n",
        "\n",
        "# printing result\n",
        "if (not flag) :\n",
        "    print (\"Yes, List is sorted.\")\n",
        "else :\n",
        "    print (\"No, List is not sorted.\")"
      ],
      "metadata": {
        "colab": {
          "base_uri": "https://localhost:8080/"
        },
        "id": "kwM2AYQpW6gn",
        "outputId": "46d3af23-6070-4c59-e294-ced656ba9461"
      },
      "execution_count": 32,
      "outputs": [
        {
          "output_type": "stream",
          "name": "stdout",
          "text": [
            "No, List is not sorted.\n"
          ]
        }
      ]
    },
    {
      "cell_type": "code",
      "source": [
        "#17 Write a Python program to find the intersection of two lists.\n",
        "\n",
        "def intersection(lst1,lst2):\n",
        "  return(set(lst1) & set(lst2))\n",
        "\n",
        "lst1 = [15, 9, 10, 5, 4, 9]\n",
        "lst2 = [9, 4, 5, 3, 45, 87]\n",
        "print(intersection(lst1, lst2))\n",
        "\n",
        "\n"
      ],
      "metadata": {
        "colab": {
          "base_uri": "https://localhost:8080/"
        },
        "id": "tPfpO2gSW6cz",
        "outputId": "00b62e45-bc53-46cb-c080-1992efa54c68"
      },
      "execution_count": 36,
      "outputs": [
        {
          "output_type": "stream",
          "name": "stdout",
          "text": [
            "{9, 4, 5}\n"
          ]
        }
      ]
    },
    {
      "cell_type": "code",
      "source": [
        "#18 Implement a function to find the maximum subarray sum in a given list.\n",
        "def maxSubArray(nums):\n",
        "  ans = -inf\n",
        "  for i in range(len(nums)):\n",
        "    cur_sum = 0\n",
        "    for j in range(i, len(nums)):\n",
        "      cur_sum += nums[j]\n",
        "      ans = max(ans, cur_sum)\n",
        "    return ans\n",
        "nums = [1,2,3,4,5]\n",
        "\n"
      ],
      "metadata": {
        "id": "breCKAs9fPC-"
      },
      "execution_count": 4,
      "outputs": []
    }
  ]
}